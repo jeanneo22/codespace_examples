{
  "nbformat": 4,
  "nbformat_minor": 0,
  "metadata": {
    "colab": {
      "provenance": []
    },
    "kernelspec": {
      "name": "python3",
      "display_name": "Python 3"
    },
    "language_info": {
      "name": "python"
    }
  },
  "cells": [
    {
      "cell_type": "markdown",
      "source": [
        "# Load dataset"
      ],
      "metadata": {
        "id": "wOUwI3XhW40U"
      }
    },
    {
      "cell_type": "code",
      "source": [
        "from keras.datasets import cifar10\n",
        "from keras.utils import to_categorical"
      ],
      "metadata": {
        "id": "sljoCJaYYIU4"
      },
      "execution_count": 1,
      "outputs": []
    },
    {
      "cell_type": "code",
      "execution_count": 2,
      "metadata": {
        "colab": {
          "base_uri": "https://localhost:8080/"
        },
        "id": "65VY3yE6Wib2",
        "outputId": "bde9f033-8585-4c15-d770-a2af030a1da2"
      },
      "outputs": [
        {
          "output_type": "stream",
          "name": "stdout",
          "text": [
            "Downloading data from https://www.cs.toronto.edu/~kriz/cifar-10-python.tar.gz\n",
            "170498071/170498071 [==============================] - 6s 0us/step\n"
          ]
        }
      ],
      "source": [
        "# load dataset\n",
        "(trainX, trainY), (testX, testY) = cifar10.load_data()\n",
        "# one hot encode target values\n",
        "trainY = to_categorical(trainY)\n",
        "testY = to_categorical(testY)"
      ]
    },
    {
      "cell_type": "markdown",
      "source": [
        "# Preprocess the pixels"
      ],
      "metadata": {
        "id": "aE16DAyxXCTt"
      }
    },
    {
      "cell_type": "code",
      "source": [
        "# convert from integers to floats\n",
        "train_norm = trainX.astype('float32')\n",
        "test_norm = testX.astype('float32')\n",
        "# normalize to range 0-1\n",
        "train_norm = train_norm / 255.0\n",
        "test_norm = test_norm / 255.0"
      ],
      "metadata": {
        "id": "fUMNSev3XGUu"
      },
      "execution_count": 4,
      "outputs": []
    },
    {
      "cell_type": "markdown",
      "source": [
        "# Define model"
      ],
      "metadata": {
        "id": "lGgGHEbzXLLj"
      }
    },
    {
      "cell_type": "code",
      "source": [
        "from keras.models import Sequential\n",
        "from keras.layers import Conv2D\n",
        "from keras.layers import MaxPooling2D\n",
        "from keras.layers import Dense\n",
        "from keras.layers import Flatten\n",
        "from keras.optimizers import Adam"
      ],
      "metadata": {
        "id": "m3LVasKXXxta"
      },
      "execution_count": 5,
      "outputs": []
    },
    {
      "cell_type": "code",
      "source": [
        "model = Sequential()\n",
        "model.add(Conv2D(32, (3, 3), activation='relu', input_shape=(32, 32, 3)))\n",
        "model.add(MaxPooling2D((2, 2)))\n",
        "model.add(Conv2D(64, (3, 3), activation='relu'))\n",
        "model.add(MaxPooling2D((2, 2)))\n",
        "model.add(Conv2D(128, (3, 3), activation='relu'))\n",
        "model.add(MaxPooling2D((2, 2)))\n",
        "model.add(Flatten())\n",
        "model.add(Dense(128, activation='relu'))\n",
        "model.add(Dense(10, activation='softmax'))\n",
        "opt = Adam(lr=0.001)\n",
        "model.compile(optimizer=opt, loss='categorical_crossentropy', metrics=['accuracy'])"
      ],
      "metadata": {
        "colab": {
          "base_uri": "https://localhost:8080/"
        },
        "id": "V6_-JU9lXK6-",
        "outputId": "d8cddaab-fe39-45dd-af7e-15c9ab3378b8"
      },
      "execution_count": 6,
      "outputs": [
        {
          "output_type": "stream",
          "name": "stderr",
          "text": [
            "/usr/local/lib/python3.7/dist-packages/keras/optimizers/optimizer_v2/adam.py:110: UserWarning: The `lr` argument is deprecated, use `learning_rate` instead.\n",
            "  super(Adam, self).__init__(name, **kwargs)\n"
          ]
        }
      ]
    },
    {
      "cell_type": "markdown",
      "source": [
        "# Fit and evaluate the model"
      ],
      "metadata": {
        "id": "hFZHMeyGYiZb"
      }
    },
    {
      "cell_type": "code",
      "source": [
        "# fit model\n",
        "history = model.fit(trainX, trainY, epochs=10, batch_size=128, validation_data=(testX, testY), verbose=1)\n",
        "# evaluate model\n",
        "error, acc = model.evaluate(testX, testY, verbose=0)"
      ],
      "metadata": {
        "colab": {
          "base_uri": "https://localhost:8080/"
        },
        "id": "Q93j3EjgYhLR",
        "outputId": "d081aac3-1aa0-495e-b361-bc6d956f0ed7"
      },
      "execution_count": 11,
      "outputs": [
        {
          "output_type": "stream",
          "name": "stdout",
          "text": [
            "Epoch 1/10\n",
            "391/391 [==============================] - 99s 253ms/step - loss: 0.8880 - accuracy: 0.6945 - val_loss: 1.0055 - val_accuracy: 0.6562\n",
            "Epoch 2/10\n",
            "391/391 [==============================] - 78s 198ms/step - loss: 0.8136 - accuracy: 0.7184 - val_loss: 1.0665 - val_accuracy: 0.6434\n",
            "Epoch 3/10\n",
            "391/391 [==============================] - 77s 196ms/step - loss: 0.7490 - accuracy: 0.7409 - val_loss: 1.0285 - val_accuracy: 0.6592\n",
            "Epoch 4/10\n",
            "391/391 [==============================] - 75s 193ms/step - loss: 0.6920 - accuracy: 0.7580 - val_loss: 1.0575 - val_accuracy: 0.6560\n",
            "Epoch 5/10\n",
            "391/391 [==============================] - 73s 187ms/step - loss: 0.6454 - accuracy: 0.7725 - val_loss: 1.0005 - val_accuracy: 0.6734\n",
            "Epoch 6/10\n",
            "391/391 [==============================] - 75s 191ms/step - loss: 0.5976 - accuracy: 0.7938 - val_loss: 1.0748 - val_accuracy: 0.6590\n",
            "Epoch 7/10\n",
            "391/391 [==============================] - 73s 188ms/step - loss: 0.5463 - accuracy: 0.8085 - val_loss: 1.0778 - val_accuracy: 0.6722\n",
            "Epoch 8/10\n",
            "391/391 [==============================] - 75s 191ms/step - loss: 0.4970 - accuracy: 0.8257 - val_loss: 1.1447 - val_accuracy: 0.6723\n",
            "Epoch 9/10\n",
            "391/391 [==============================] - 73s 188ms/step - loss: 0.4643 - accuracy: 0.8365 - val_loss: 1.2137 - val_accuracy: 0.6687\n",
            "Epoch 10/10\n",
            "391/391 [==============================] - 75s 192ms/step - loss: 0.4434 - accuracy: 0.8433 - val_loss: 1.1996 - val_accuracy: 0.6647\n"
          ]
        }
      ]
    },
    {
      "cell_type": "markdown",
      "source": [
        "# Plot the results"
      ],
      "metadata": {
        "id": "LN6lc2aeZNC-"
      }
    },
    {
      "cell_type": "code",
      "source": [
        "from matplotlib import pyplot as plt"
      ],
      "metadata": {
        "id": "7wRXPTnBbMbV"
      },
      "execution_count": 12,
      "outputs": []
    },
    {
      "cell_type": "code",
      "source": [
        "# plot loss\n",
        "plt.subplot(211)\n",
        "plt.title('Cross Entropy Loss')\n",
        "plt.plot(history.history['loss'], color='blue', label='train')\n",
        "plt.plot(history.history['val_loss'], color='orange', label='test')\n",
        "# plot accuracy\n",
        "plt.subplot(212)\n",
        "plt.title('Classification Accuracy')\n",
        "plt.plot(history.history['accuracy'], color='blue', label='train')\n",
        "plt.plot(history.history['val_accuracy'], color='orange', label='test')"
      ],
      "metadata": {
        "colab": {
          "base_uri": "https://localhost:8080/",
          "height": 298
        },
        "id": "YYbkPKjNZMVf",
        "outputId": "2a20e7a0-2975-4d40-9287-d7541cd35b98"
      },
      "execution_count": 13,
      "outputs": [
        {
          "output_type": "execute_result",
          "data": {
            "text/plain": [
              "[<matplotlib.lines.Line2D at 0x7fe32d194f10>]"
            ]
          },
          "metadata": {},
          "execution_count": 13
        },
        {
          "output_type": "display_data",
          "data": {
            "text/plain": [
              "<Figure size 432x288 with 2 Axes>"
            ],
            "image/png": "[encoded data removed]"
          },
          "metadata": {
            "needs_background": "light"
          }
        }
      ]
    },
    {
      "cell_type": "code",
      "source": [
        "print('Test accuracy= %.3f' % (acc * 100.0))"
      ],
      "metadata": {
        "colab": {
          "base_uri": "https://localhost:8080/"
        },
        "id": "lcVBEuWRZX95",
        "outputId": "2e235954-f844-4308-f9c6-d7bd8816c849"
      },
      "execution_count": 20,
      "outputs": [
        {
          "output_type": "stream",
          "name": "stdout",
          "text": [
            "Test accuracy= 66.470\n"
          ]
        }
      ]
    }
  ]
}